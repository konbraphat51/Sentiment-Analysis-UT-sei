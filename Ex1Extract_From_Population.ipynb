{
 "cells": [
  {
   "attachments": {},
   "cell_type": "markdown",
   "metadata": {},
   "source": [
    "# 03-1で母集団を取ってきた場合、その母集団テキストの中からキーワード該当のテキストを抽出\n",
    "同じ母集団で比較したいとき、webスクレイピングより圧倒的高速にテキストデータセットが欲しいとき、AND検索的に抽出したい場合"
   ]
  },
  {
   "cell_type": "code",
   "execution_count": 1,
   "metadata": {},
   "outputs": [],
   "source": [
    "#母集団のファイル\n",
    "population_file = \"Responses/UT-sei-population.txt\"\n",
    "\n",
    "#保存するファイル\n",
    "output_file = \"Responses/UT-sei-from-population.txt\"\n",
    "\n",
    "#キーワードファイル\n",
    "keywords_file = \"Keywords/UT-sei.txt\""
   ]
  },
  {
   "attachments": {},
   "cell_type": "markdown",
   "metadata": {},
   "source": [
    "## キーワードを取得"
   ]
  },
  {
   "cell_type": "code",
   "execution_count": 3,
   "metadata": {},
   "outputs": [
    {
     "data": {
      "text/plain": [
       "['進振り']"
      ]
     },
     "execution_count": 3,
     "metadata": {},
     "output_type": "execute_result"
    }
   ],
   "source": [
    "keywords = []\n",
    "with open(keywords_file) as f:\n",
    "    keywords = f.read().split()\n",
    "\n",
    "keywords"
   ]
  },
  {
   "attachments": {},
   "cell_type": "markdown",
   "metadata": {},
   "source": [
    "## 抽出"
   ]
  },
  {
   "cell_type": "code",
   "execution_count": 9,
   "metadata": {},
   "outputs": [],
   "source": [
    "import numpy as np"
   ]
  },
  {
   "cell_type": "code",
   "execution_count": 10,
   "metadata": {},
   "outputs": [],
   "source": [
    "#キーワード該当の投稿\n",
    "#[\"link_index\", \"number\"]\n",
    "found_keyword = []\n",
    "\n",
    "def has_keyword(text):\n",
    "    for keyword in keywords:\n",
    "        if keyword in text:\n",
    "            return True\n",
    "    return False\n",
    "\n",
    "with open(population_file, \"r\", encoding=\"utf-8\") as f_population:\n",
    "    with open(output_file, \"w\", encoding=\"utf-8\") as f_responses:\n",
    "        for line in f_population:\n",
    "            date, link_index, number, content = line.split(\"\\t\")\n",
    "\n",
    "            if (has_keyword(line)) or ((link_index, number) in found_keyword):\n",
    "                f_responses.write(line)\n",
    "                found_keyword.append((link_index, number))"
   ]
  }
 ],
 "metadata": {
  "kernelspec": {
   "display_name": "jpnlp",
   "language": "python",
   "name": "python3"
  },
  "language_info": {
   "codemirror_mode": {
    "name": "ipython",
    "version": 3
   },
   "file_extension": ".py",
   "mimetype": "text/x-python",
   "name": "python",
   "nbconvert_exporter": "python",
   "pygments_lexer": "ipython3",
   "version": "3.9.16"
  },
  "orig_nbformat": 4,
  "vscode": {
   "interpreter": {
    "hash": "af19612f8f38f6812d87a5ef9419a460d9700d7e1cf8ff071cf581e2ee4d6233"
   }
  }
 },
 "nbformat": 4,
 "nbformat_minor": 2
}
